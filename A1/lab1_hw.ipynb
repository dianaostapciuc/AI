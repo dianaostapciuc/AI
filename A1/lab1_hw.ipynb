{
 "cells": [
  {
   "cell_type": "code",
   "execution_count": 7,
   "id": "f3d76326-e0c3-4c20-8bfe-f9be7c79867b",
   "metadata": {},
   "outputs": [
    {
     "name": "stdout",
     "output_type": "stream",
     "text": [
      "0.1\n",
      "80\n"
     ]
    }
   ],
   "source": [
    "#task 6 - unfair probability spinner\n",
    "import numpy as np\n",
    "def spinner(probabilityDistribution):\n",
    "    random_number = np.random.random() \n",
    "    cumulative_prob = 0\n",
    "    for i, prob in enumerate(probabilityDistribution):\n",
    "        cumulative_prob += prob\n",
    "        if cumulative_prob > random_number:\n",
    "            return prob\n",
    "\n",
    "probabilityDistribution = [0.1, 0.4, 0.2, 0.3]\n",
    "print(spinner(probabilityDistribution))\n",
    "\n",
    "def spinner2(degrees):\n",
    "    random_number = np.random.randint(1,360)\n",
    "    cumulative_deg = 0\n",
    "    for i, deg in enumerate(degrees):\n",
    "        cumulative_deg += deg\n",
    "        if cumulative_deg > random_number:\n",
    "            return deg\n",
    "list_of_degrees = [45, 85, 80, 150]\n",
    "print(spinner2(list_of_degrees))"
   ]
  },
  {
   "cell_type": "code",
   "execution_count": 4,
   "id": "26a31bd1-6c56-4ebb-b458-274327780663",
   "metadata": {},
   "outputs": [
    {
     "name": "stdout",
     "output_type": "stream",
     "text": [
      "0.283\n",
      "0.2827433388230814\n"
     ]
    }
   ],
   "source": [
    "# task 7 - monte carlo simulations\n",
    "def simulation(nr_balls):\n",
    "    R = 30\n",
    "    l = 100\n",
    "    r = 1\n",
    "    nr_balls_inside = 0\n",
    "    for _ in range(nr_balls):\n",
    "        x = np.random.uniform(0,l)\n",
    "        y = np.random.uniform(0,l)\n",
    "        if (x - l/2)**2 + (y - l/2)**2 <= R**2:\n",
    "            nr_balls_inside += 1\n",
    "    probability = nr_balls_inside / nr_balls\n",
    "    return probability\n",
    "\n",
    "nr_simulations = 1000\n",
    "estimated_prob = simulation(nr_simulations)\n",
    "print(estimated_prob)\n",
    "math_prob = np.pi * 30**2 / 100**2\n",
    "print(math_prob)"
   ]
  },
  {
   "cell_type": "code",
   "execution_count": null,
   "id": "e57df35c-4ee8-43fa-8c49-9a6238368cd2",
   "metadata": {},
   "outputs": [],
   "source": []
  }
 ],
 "metadata": {
  "kernelspec": {
   "display_name": "Python 3 (ipykernel)",
   "language": "python",
   "name": "python3"
  },
  "language_info": {
   "codemirror_mode": {
    "name": "ipython",
    "version": 3
   },
   "file_extension": ".py",
   "mimetype": "text/x-python",
   "name": "python",
   "nbconvert_exporter": "python",
   "pygments_lexer": "ipython3",
   "version": "3.11.5"
  }
 },
 "nbformat": 4,
 "nbformat_minor": 5
}
